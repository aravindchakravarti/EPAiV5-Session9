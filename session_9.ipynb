{
 "cells": [
  {
   "cell_type": "code",
   "execution_count": 1,
   "metadata": {},
   "outputs": [],
   "source": [
    "from regularconvexpolygon import RegConvexPolygon\n",
    "from polygonsequence import PolygonSequence"
   ]
  },
  {
   "cell_type": "markdown",
   "metadata": {},
   "source": [
    "# Testing Regular Convex Polygon Functions"
   ]
  },
  {
   "cell_type": "markdown",
   "metadata": {},
   "source": [
    "#### Create and display Regular Convex Polygon"
   ]
  },
  {
   "cell_type": "code",
   "execution_count": 2,
   "metadata": {},
   "outputs": [
    {
     "name": "stdout",
     "output_type": "stream",
     "text": [
      "RegConvexPolygon(edges=4, circum_radius=4, interior_angle=90.00, edge_len=5.66, apothem=2.83, area=32.00, perimeter=22.63)\n"
     ]
    }
   ],
   "source": [
    "poly_a = RegConvexPolygon(4, 4)\n",
    "print(poly_a)"
   ]
  },
  {
   "cell_type": "markdown",
   "metadata": {},
   "source": [
    "#### Test the Regular Convex Polygon with wrong inputs"
   ]
  },
  {
   "cell_type": "code",
   "execution_count": 3,
   "metadata": {},
   "outputs": [
    {
     "ename": "TypeError",
     "evalue": "Polygons will have edges of type int",
     "output_type": "error",
     "traceback": [
      "\u001b[1;31m---------------------------------------------------------------------------\u001b[0m",
      "\u001b[1;31mTypeError\u001b[0m                                 Traceback (most recent call last)",
      "Cell \u001b[1;32mIn[3], line 1\u001b[0m\n\u001b[1;32m----> 1\u001b[0m poly_a \u001b[38;5;241m=\u001b[39m \u001b[43mRegConvexPolygon\u001b[49m\u001b[43m(\u001b[49m\u001b[38;5;124;43m'\u001b[39;49m\u001b[38;5;124;43ma\u001b[39;49m\u001b[38;5;124;43m'\u001b[39;49m\u001b[43m,\u001b[49m\u001b[43m \u001b[49m\u001b[38;5;241;43m4\u001b[39;49m\u001b[43m)\u001b[49m\n",
      "File \u001b[1;32md:\\OneDrive - ALTEN Group\\Personal and Otherstuff\\Learnings\\EPAi5\\EPAiV5-Session9\\regularconvexpolygon.py:17\u001b[0m, in \u001b[0;36mRegConvexPolygon.__init__\u001b[1;34m(self, edges, circum_radius)\u001b[0m\n\u001b[0;32m     13\u001b[0m \u001b[38;5;250m\u001b[39m\u001b[38;5;124;03m'''\u001b[39;00m\n\u001b[0;32m     14\u001b[0m \u001b[38;5;124;03mInitialize the convex polygon with its number of edges and circumradius.\u001b[39;00m\n\u001b[0;32m     15\u001b[0m \u001b[38;5;124;03m'''\u001b[39;00m\n\u001b[0;32m     16\u001b[0m \u001b[38;5;28;01mif\u001b[39;00m \u001b[38;5;129;01mnot\u001b[39;00m \u001b[38;5;28misinstance\u001b[39m (edges, \u001b[38;5;28mint\u001b[39m):\n\u001b[1;32m---> 17\u001b[0m     \u001b[38;5;28;01mraise\u001b[39;00m \u001b[38;5;167;01mTypeError\u001b[39;00m (\u001b[38;5;124m'\u001b[39m\u001b[38;5;124mPolygons will have edges of type int\u001b[39m\u001b[38;5;124m'\u001b[39m)\n\u001b[0;32m     19\u001b[0m \u001b[38;5;28;01mif\u001b[39;00m \u001b[38;5;129;01mnot\u001b[39;00m (\u001b[38;5;28misinstance\u001b[39m(edges, \u001b[38;5;28mfloat\u001b[39m) \u001b[38;5;129;01mor\u001b[39;00m \u001b[38;5;28misinstance\u001b[39m(edges, \u001b[38;5;28mint\u001b[39m)):\n\u001b[0;32m     20\u001b[0m     \u001b[38;5;28;01mraise\u001b[39;00m \u001b[38;5;167;01mTypeError\u001b[39;00m (\u001b[38;5;124m'\u001b[39m\u001b[38;5;124mPolygon circumradius must be either int or float\u001b[39m\u001b[38;5;124m'\u001b[39m)\n",
      "\u001b[1;31mTypeError\u001b[0m: Polygons will have edges of type int"
     ]
    }
   ],
   "source": [
    "poly_a = RegConvexPolygon('a', 4)\n"
   ]
  },
  {
   "cell_type": "code",
   "execution_count": null,
   "metadata": {},
   "outputs": [
    {
     "ename": "TypeError",
     "evalue": "'<=' not supported between instances of 'str' and 'int'",
     "output_type": "error",
     "traceback": [
      "\u001b[1;31m---------------------------------------------------------------------------\u001b[0m",
      "\u001b[1;31mTypeError\u001b[0m                                 Traceback (most recent call last)",
      "Cell \u001b[1;32mIn[7], line 1\u001b[0m\n\u001b[1;32m----> 1\u001b[0m poly_a \u001b[38;5;241m=\u001b[39m \u001b[43mRegConvexPolygon\u001b[49m\u001b[43m(\u001b[49m\u001b[38;5;241;43m4\u001b[39;49m\u001b[43m,\u001b[49m\u001b[43m \u001b[49m\u001b[38;5;124;43m'\u001b[39;49m\u001b[38;5;124;43ma\u001b[39;49m\u001b[38;5;124;43m'\u001b[39;49m\u001b[43m)\u001b[49m\n",
      "File \u001b[1;32md:\\OneDrive - ALTEN Group\\Personal and Otherstuff\\Learnings\\EPAi5\\EPAiV5-Session9\\regularconvexpolygon.py:19\u001b[0m, in \u001b[0;36mRegConvexPolygon.__init__\u001b[1;34m(self, edges, circum_radius)\u001b[0m\n\u001b[0;32m     16\u001b[0m \u001b[38;5;28;01mif\u001b[39;00m \u001b[38;5;129;01mnot\u001b[39;00m \u001b[38;5;28misinstance\u001b[39m (edges, \u001b[38;5;28mint\u001b[39m):\n\u001b[0;32m     17\u001b[0m     \u001b[38;5;28;01mraise\u001b[39;00m \u001b[38;5;167;01mTypeError\u001b[39;00m (\u001b[38;5;124m'\u001b[39m\u001b[38;5;124mPolygons will have edges of type int\u001b[39m\u001b[38;5;124m'\u001b[39m)\n\u001b[1;32m---> 19\u001b[0m \u001b[38;5;28;01mif\u001b[39;00m \u001b[38;5;129;01mnot\u001b[39;00m (\u001b[38;5;28misinstance\u001b[39m(edges, \u001b[38;5;28mfloat\u001b[39m) \u001b[38;5;129;01mor\u001b[39;00m \u001b[38;5;28misinstance\u001b[39m(edges, \u001b[38;5;28mint\u001b[39m)):\n\u001b[0;32m     20\u001b[0m     \u001b[38;5;28;01mraise\u001b[39;00m \u001b[38;5;167;01mTypeError\u001b[39;00m (\u001b[38;5;124m'\u001b[39m\u001b[38;5;124mPolygon circumradius must be either int or float\u001b[39m\u001b[38;5;124m'\u001b[39m)\n\u001b[0;32m     22\u001b[0m \u001b[38;5;28;01mif\u001b[39;00m circum_radius \u001b[38;5;241m<\u001b[39m\u001b[38;5;241m=\u001b[39m \u001b[38;5;241m0\u001b[39m:\n",
      "\u001b[1;31mTypeError\u001b[0m: '<=' not supported between instances of 'str' and 'int'"
     ]
    }
   ],
   "source": [
    "poly_a = RegConvexPolygon(4, 'a')"
   ]
  },
  {
   "cell_type": "markdown",
   "metadata": {},
   "source": [
    "#### Test if program raises error if less than three edges given"
   ]
  },
  {
   "cell_type": "code",
   "execution_count": null,
   "metadata": {},
   "outputs": [
    {
     "ename": "ValueError",
     "evalue": "Polygon should have atleast 3 sides",
     "output_type": "error",
     "traceback": [
      "\u001b[1;31m---------------------------------------------------------------------------\u001b[0m",
      "\u001b[1;31mValueError\u001b[0m                                Traceback (most recent call last)",
      "Cell \u001b[1;32mIn[4], line 1\u001b[0m\n\u001b[1;32m----> 1\u001b[0m poly_a \u001b[38;5;241m=\u001b[39m \u001b[43mRegConvexPolygon\u001b[49m\u001b[43m(\u001b[49m\u001b[38;5;241;43m0\u001b[39;49m\u001b[43m,\u001b[49m\u001b[43m \u001b[49m\u001b[38;5;241;43m4\u001b[39;49m\u001b[43m)\u001b[49m\n",
      "File \u001b[1;32md:\\OneDrive - ALTEN Group\\Personal and Otherstuff\\Learnings\\EPAi5\\EPAiV5-Session9\\regularconvexpolygon.py:23\u001b[0m, in \u001b[0;36mRegConvexPolygon.__init__\u001b[1;34m(self, edges, circum_radius)\u001b[0m\n\u001b[0;32m     20\u001b[0m     \u001b[38;5;28;01mraise\u001b[39;00m \u001b[38;5;167;01mValueError\u001b[39;00m (\u001b[38;5;124m'\u001b[39m\u001b[38;5;124mPolygon\u001b[39m\u001b[38;5;130;01m\\'\u001b[39;00m\u001b[38;5;124ms circum radius must a valid positive real number\u001b[39m\u001b[38;5;124m'\u001b[39m)\n\u001b[0;32m     22\u001b[0m \u001b[38;5;28;01mif\u001b[39;00m edges \u001b[38;5;241m<\u001b[39m \u001b[38;5;241m3\u001b[39m:\n\u001b[1;32m---> 23\u001b[0m     \u001b[38;5;28;01mraise\u001b[39;00m \u001b[38;5;167;01mValueError\u001b[39;00m (\u001b[38;5;124m'\u001b[39m\u001b[38;5;124mPolygon should have atleast 3 sides\u001b[39m\u001b[38;5;124m'\u001b[39m)\n\u001b[0;32m     25\u001b[0m \u001b[38;5;28mself\u001b[39m\u001b[38;5;241m.\u001b[39mno_edges \u001b[38;5;241m=\u001b[39m edges\n\u001b[0;32m     26\u001b[0m \u001b[38;5;28mself\u001b[39m\u001b[38;5;241m.\u001b[39mcircum_radius \u001b[38;5;241m=\u001b[39m circum_radius\n",
      "\u001b[1;31mValueError\u001b[0m: Polygon should have atleast 3 sides"
     ]
    }
   ],
   "source": [
    "poly_a = RegConvexPolygon(0, 4)"
   ]
  },
  {
   "cell_type": "code",
   "execution_count": null,
   "metadata": {},
   "outputs": [
    {
     "ename": "ValueError",
     "evalue": "Polygon should have atleast 3 sides",
     "output_type": "error",
     "traceback": [
      "\u001b[1;31m---------------------------------------------------------------------------\u001b[0m",
      "\u001b[1;31mValueError\u001b[0m                                Traceback (most recent call last)",
      "Cell \u001b[1;32mIn[5], line 1\u001b[0m\n\u001b[1;32m----> 1\u001b[0m poly_a \u001b[38;5;241m=\u001b[39m \u001b[43mRegConvexPolygon\u001b[49m\u001b[43m(\u001b[49m\u001b[38;5;241;43m-\u001b[39;49m\u001b[38;5;241;43m1\u001b[39;49m\u001b[43m,\u001b[49m\u001b[43m \u001b[49m\u001b[38;5;241;43m4\u001b[39;49m\u001b[43m)\u001b[49m\n",
      "File \u001b[1;32md:\\OneDrive - ALTEN Group\\Personal and Otherstuff\\Learnings\\EPAi5\\EPAiV5-Session9\\regularconvexpolygon.py:23\u001b[0m, in \u001b[0;36mRegConvexPolygon.__init__\u001b[1;34m(self, edges, circum_radius)\u001b[0m\n\u001b[0;32m     20\u001b[0m     \u001b[38;5;28;01mraise\u001b[39;00m \u001b[38;5;167;01mValueError\u001b[39;00m (\u001b[38;5;124m'\u001b[39m\u001b[38;5;124mPolygon\u001b[39m\u001b[38;5;130;01m\\'\u001b[39;00m\u001b[38;5;124ms circum radius must a valid positive real number\u001b[39m\u001b[38;5;124m'\u001b[39m)\n\u001b[0;32m     22\u001b[0m \u001b[38;5;28;01mif\u001b[39;00m edges \u001b[38;5;241m<\u001b[39m \u001b[38;5;241m3\u001b[39m:\n\u001b[1;32m---> 23\u001b[0m     \u001b[38;5;28;01mraise\u001b[39;00m \u001b[38;5;167;01mValueError\u001b[39;00m (\u001b[38;5;124m'\u001b[39m\u001b[38;5;124mPolygon should have atleast 3 sides\u001b[39m\u001b[38;5;124m'\u001b[39m)\n\u001b[0;32m     25\u001b[0m \u001b[38;5;28mself\u001b[39m\u001b[38;5;241m.\u001b[39mno_edges \u001b[38;5;241m=\u001b[39m edges\n\u001b[0;32m     26\u001b[0m \u001b[38;5;28mself\u001b[39m\u001b[38;5;241m.\u001b[39mcircum_radius \u001b[38;5;241m=\u001b[39m circum_radius\n",
      "\u001b[1;31mValueError\u001b[0m: Polygon should have atleast 3 sides"
     ]
    }
   ],
   "source": [
    "poly_a = RegConvexPolygon(-1, 4)"
   ]
  },
  {
   "cell_type": "markdown",
   "metadata": {},
   "source": [
    "# Testing Polygon Sequence"
   ]
  },
  {
   "cell_type": "markdown",
   "metadata": {},
   "source": [
    "#### Create and print correct Polygon Sequence"
   ]
  },
  {
   "cell_type": "code",
   "execution_count": 5,
   "metadata": {},
   "outputs": [
    {
     "name": "stdout",
     "output_type": "stream",
     "text": [
      "PolygonSequence(largest_polygon=5, polygon with area to perimeter ratio from 3 to 5=[0, 0, 0, 0.8000000000000003, 1.1313708498984762, 1.294427190999916])\n"
     ]
    }
   ],
   "source": [
    "poly_seq_a = PolygonSequence(3.2, 5)\n",
    "print(poly_seq_a)"
   ]
  },
  {
   "cell_type": "markdown",
   "metadata": {},
   "source": [
    "#### Check which polygon has highest area to perimeter ratio"
   ]
  },
  {
   "cell_type": "code",
   "execution_count": 7,
   "metadata": {},
   "outputs": [
    {
     "name": "stdout",
     "output_type": "stream",
     "text": [
      "1.294427190999916 5\n"
     ]
    }
   ],
   "source": [
    "# largest_area_to_perimeter_ratio returns the area to perimeter ratio and the polygon for which it was highest\n",
    "poly_seq_a.largest_area_to_perimeter_ratio()"
   ]
  },
  {
   "cell_type": "markdown",
   "metadata": {},
   "source": [
    "#### Check with wrong inputs"
   ]
  },
  {
   "cell_type": "code",
   "execution_count": 8,
   "metadata": {},
   "outputs": [
    {
     "ename": "TypeError",
     "evalue": "'<=' not supported between instances of 'str' and 'int'",
     "output_type": "error",
     "traceback": [
      "\u001b[1;31m---------------------------------------------------------------------------\u001b[0m",
      "\u001b[1;31mTypeError\u001b[0m                                 Traceback (most recent call last)",
      "Cell \u001b[1;32mIn[8], line 1\u001b[0m\n\u001b[1;32m----> 1\u001b[0m poly_seq_a \u001b[38;5;241m=\u001b[39m \u001b[43mPolygonSequence\u001b[49m\u001b[43m(\u001b[49m\u001b[38;5;124;43m'\u001b[39;49m\u001b[38;5;124;43ma\u001b[39;49m\u001b[38;5;124;43m'\u001b[39;49m\u001b[43m,\u001b[49m\u001b[43m \u001b[49m\u001b[38;5;241;43m5\u001b[39;49m\u001b[43m)\u001b[49m\n",
      "File \u001b[1;32md:\\OneDrive - ALTEN Group\\Personal and Otherstuff\\Learnings\\EPAi5\\EPAiV5-Session9\\polygonsequence.py:12\u001b[0m, in \u001b[0;36mPolygonSequence.__init__\u001b[1;34m(self, circum_radius, largest_polygon)\u001b[0m\n\u001b[0;32m      9\u001b[0m \u001b[38;5;28;01mif\u001b[39;00m \u001b[38;5;129;01mnot\u001b[39;00m \u001b[38;5;28misinstance\u001b[39m(largest_polygon, \u001b[38;5;28mint\u001b[39m):\n\u001b[0;32m     10\u001b[0m     \u001b[38;5;28;01mraise\u001b[39;00m \u001b[38;5;167;01mTypeError\u001b[39;00m(\u001b[38;5;124m'\u001b[39m\u001b[38;5;124mExpected largest polygon as type int\u001b[39m\u001b[38;5;124m'\u001b[39m)\n\u001b[1;32m---> 12\u001b[0m \u001b[38;5;28;01mif\u001b[39;00m \u001b[43mcircum_radius\u001b[49m\u001b[43m \u001b[49m\u001b[38;5;241;43m<\u001b[39;49m\u001b[38;5;241;43m=\u001b[39;49m\u001b[38;5;241;43m0\u001b[39;49m :\n\u001b[0;32m     13\u001b[0m     \u001b[38;5;28;01mraise\u001b[39;00m \u001b[38;5;167;01mValueError\u001b[39;00m(\u001b[38;5;124m'\u001b[39m\u001b[38;5;124mCircum Radius must a valid positive number\u001b[39m\u001b[38;5;124m'\u001b[39m)\n\u001b[0;32m     15\u001b[0m \u001b[38;5;28;01mif\u001b[39;00m largest_polygon \u001b[38;5;241m<\u001b[39m \u001b[38;5;241m3\u001b[39m:\n",
      "\u001b[1;31mTypeError\u001b[0m: '<=' not supported between instances of 'str' and 'int'"
     ]
    }
   ],
   "source": [
    "poly_seq_a = PolygonSequence('a', 5)"
   ]
  },
  {
   "cell_type": "code",
   "execution_count": 10,
   "metadata": {},
   "outputs": [
    {
     "ename": "ValueError",
     "evalue": "Circum Radius must a valid positive number",
     "output_type": "error",
     "traceback": [
      "\u001b[1;31m---------------------------------------------------------------------------\u001b[0m",
      "\u001b[1;31mValueError\u001b[0m                                Traceback (most recent call last)",
      "Cell \u001b[1;32mIn[10], line 1\u001b[0m\n\u001b[1;32m----> 1\u001b[0m poly_seq_a \u001b[38;5;241m=\u001b[39m \u001b[43mPolygonSequence\u001b[49m\u001b[43m(\u001b[49m\u001b[38;5;241;43m0.0\u001b[39;49m\u001b[43m,\u001b[49m\u001b[43m \u001b[49m\u001b[38;5;241;43m5\u001b[39;49m\u001b[43m)\u001b[49m\n",
      "File \u001b[1;32md:\\OneDrive - ALTEN Group\\Personal and Otherstuff\\Learnings\\EPAi5\\EPAiV5-Session9\\polygonsequence.py:13\u001b[0m, in \u001b[0;36mPolygonSequence.__init__\u001b[1;34m(self, circum_radius, largest_polygon)\u001b[0m\n\u001b[0;32m     10\u001b[0m     \u001b[38;5;28;01mraise\u001b[39;00m \u001b[38;5;167;01mTypeError\u001b[39;00m(\u001b[38;5;124m'\u001b[39m\u001b[38;5;124mExpected largest polygon as type int\u001b[39m\u001b[38;5;124m'\u001b[39m)\n\u001b[0;32m     12\u001b[0m \u001b[38;5;28;01mif\u001b[39;00m circum_radius \u001b[38;5;241m<\u001b[39m\u001b[38;5;241m=\u001b[39m\u001b[38;5;241m0\u001b[39m :\n\u001b[1;32m---> 13\u001b[0m     \u001b[38;5;28;01mraise\u001b[39;00m \u001b[38;5;167;01mValueError\u001b[39;00m(\u001b[38;5;124m'\u001b[39m\u001b[38;5;124mCircum Radius must a valid positive number\u001b[39m\u001b[38;5;124m'\u001b[39m)\n\u001b[0;32m     15\u001b[0m \u001b[38;5;28;01mif\u001b[39;00m largest_polygon \u001b[38;5;241m<\u001b[39m \u001b[38;5;241m3\u001b[39m:\n\u001b[0;32m     16\u001b[0m     \u001b[38;5;28;01mraise\u001b[39;00m \u001b[38;5;167;01mValueError\u001b[39;00m(\u001b[38;5;124m'\u001b[39m\u001b[38;5;124mPolygons are defined only with 3 or more edges\u001b[39m\u001b[38;5;124m'\u001b[39m)\n",
      "\u001b[1;31mValueError\u001b[0m: Circum Radius must a valid positive number"
     ]
    }
   ],
   "source": [
    "poly_seq_a = PolygonSequence(0.0, 5)"
   ]
  },
  {
   "cell_type": "code",
   "execution_count": 11,
   "metadata": {},
   "outputs": [
    {
     "ename": "ValueError",
     "evalue": "Polygons are defined only with 3 or more edges",
     "output_type": "error",
     "traceback": [
      "\u001b[1;31m---------------------------------------------------------------------------\u001b[0m",
      "\u001b[1;31mValueError\u001b[0m                                Traceback (most recent call last)",
      "Cell \u001b[1;32mIn[11], line 1\u001b[0m\n\u001b[1;32m----> 1\u001b[0m poly_seq_a \u001b[38;5;241m=\u001b[39m \u001b[43mPolygonSequence\u001b[49m\u001b[43m(\u001b[49m\u001b[38;5;241;43m0.1\u001b[39;49m\u001b[43m,\u001b[49m\u001b[43m \u001b[49m\u001b[38;5;241;43m2\u001b[39;49m\u001b[43m)\u001b[49m\n",
      "File \u001b[1;32md:\\OneDrive - ALTEN Group\\Personal and Otherstuff\\Learnings\\EPAi5\\EPAiV5-Session9\\polygonsequence.py:16\u001b[0m, in \u001b[0;36mPolygonSequence.__init__\u001b[1;34m(self, circum_radius, largest_polygon)\u001b[0m\n\u001b[0;32m     13\u001b[0m     \u001b[38;5;28;01mraise\u001b[39;00m \u001b[38;5;167;01mValueError\u001b[39;00m(\u001b[38;5;124m'\u001b[39m\u001b[38;5;124mCircum Radius must a valid positive number\u001b[39m\u001b[38;5;124m'\u001b[39m)\n\u001b[0;32m     15\u001b[0m \u001b[38;5;28;01mif\u001b[39;00m largest_polygon \u001b[38;5;241m<\u001b[39m \u001b[38;5;241m3\u001b[39m:\n\u001b[1;32m---> 16\u001b[0m     \u001b[38;5;28;01mraise\u001b[39;00m \u001b[38;5;167;01mValueError\u001b[39;00m(\u001b[38;5;124m'\u001b[39m\u001b[38;5;124mPolygons are defined only with 3 or more edges\u001b[39m\u001b[38;5;124m'\u001b[39m)\n\u001b[0;32m     18\u001b[0m \u001b[38;5;28mself\u001b[39m\u001b[38;5;241m.\u001b[39mcircum_radius \u001b[38;5;241m=\u001b[39m circum_radius\n\u001b[0;32m     19\u001b[0m \u001b[38;5;28mself\u001b[39m\u001b[38;5;241m.\u001b[39mlargest_polygon \u001b[38;5;241m=\u001b[39m largest_polygon\n",
      "\u001b[1;31mValueError\u001b[0m: Polygons are defined only with 3 or more edges"
     ]
    }
   ],
   "source": [
    "poly_seq_a = PolygonSequence(0.1, 2)"
   ]
  },
  {
   "cell_type": "markdown",
   "metadata": {},
   "source": [
    "#### Get the item (index the item) via indexing"
   ]
  },
  {
   "cell_type": "code",
   "execution_count": 16,
   "metadata": {},
   "outputs": [
    {
     "name": "stdout",
     "output_type": "stream",
     "text": [
      "For edge 0 area to perimeter ratio = 0\n",
      "For edge 1 area to perimeter ratio = 0\n",
      "For edge 2 area to perimeter ratio = 0\n",
      "For edge 3 area to perimeter ratio = 0.8000000000000003\n",
      "For edge 4 area to perimeter ratio = 1.1313708498984762\n",
      "For edge 5 area to perimeter ratio = 1.294427190999916\n",
      "For edge 6 area to perimeter ratio = 1.385640646055102\n",
      "For edge 7 area to perimeter ratio = 1.4415501886438706\n",
      "For edge 8 area to perimeter ratio = 1.478207252018059\n",
      "For edge 9 area to perimeter ratio = 1.5035081932574537\n",
      "For edge 10 area to perimeter ratio = 1.5216904260722457\n",
      "For edge 11 area to perimeter ratio = 1.535188757783196\n",
      "For edge 12 area to perimeter ratio = 1.5454813220625094\n",
      "For edge 13 area to perimeter ratio = 1.5535069078816832\n",
      "For edge 14 area to perimeter ratio = 1.559884659490918\n",
      "For edge 15 area to perimeter ratio = 1.5650361611740893\n"
     ]
    }
   ],
   "source": [
    "poly_seq_a = PolygonSequence(3.2, 15)\n",
    "\n",
    "for index, value in enumerate (poly_seq_a):\n",
    "    print(f'For edge {index} area to perimeter ratio = {value}')"
   ]
  }
 ],
 "metadata": {
  "kernelspec": {
   "display_name": "epaiv5",
   "language": "python",
   "name": "python3"
  },
  "language_info": {
   "codemirror_mode": {
    "name": "ipython",
    "version": 3
   },
   "file_extension": ".py",
   "mimetype": "text/x-python",
   "name": "python",
   "nbconvert_exporter": "python",
   "pygments_lexer": "ipython3",
   "version": "3.12.3"
  }
 },
 "nbformat": 4,
 "nbformat_minor": 2
}
